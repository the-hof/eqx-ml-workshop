{
 "cells": [
  {
   "cell_type": "code",
   "execution_count": 1,
   "metadata": {
    "collapsed": true
   },
   "outputs": [],
   "source": [
    "from sklearn import tree"
   ]
  },
  {
   "cell_type": "code",
   "execution_count": 6,
   "metadata": {
    "collapsed": true
   },
   "outputs": [],
   "source": [
    "## Set up initial data\n",
    "\n",
    "###In this case, we make the data categorical instead of numeric \n",
    "###Data often needs to be transformed before it is usable"
   ]
  },
  {
   "cell_type": "code",
   "execution_count": 12,
   "metadata": {
    "collapsed": true
   },
   "outputs": [],
   "source": [
    "features_data = [[140, 'bumpy'], [130, 'bumpy'], [150, 'smooth'], [170, 'smooth']]\n",
    "labels_data = ['orange', 'orange', 'apple', 'apple']"
   ]
  },
  {
   "cell_type": "code",
   "execution_count": 9,
   "metadata": {
    "collapsed": true
   },
   "outputs": [],
   "source": [
    "## Transform the feature and label data\n",
    "\n",
    "### Many algorithms do not deal with categorical data\n",
    "### So we encode the categories as a series of 0/1 fields"
   ]
  },
  {
   "cell_type": "code",
   "execution_count": 15,
   "metadata": {
    "collapsed": false
   },
   "outputs": [
    {
     "name": "stdout",
     "output_type": "stream",
     "text": [
      "[[140, 1], [130, 1], [150, 0], [170, 0]]\n",
      "[0, 0, 1, 1]\n"
     ]
    }
   ],
   "source": [
    "for feature in features_data:\n",
    "    if feature[1] == 'bumpy':\n",
    "        feature[1] = 1\n",
    "    if feature[1] == 'smooth':\n",
    "        feature[1] = 0\n",
    "features = features_data\n",
    "        \n",
    "labels = []\n",
    "for label in labels_data:\n",
    "    if label == 'orange':\n",
    "        labels.append(0)\n",
    "    if label == 'apple':\n",
    "        labels.append(1)\n",
    " \n",
    "print (features)\n",
    "print (labels)"
   ]
  },
  {
   "cell_type": "code",
   "execution_count": 16,
   "metadata": {
    "collapsed": true
   },
   "outputs": [],
   "source": [
    "clf = tree.DecisionTreeClassifier()\n",
    "clf = clf.fit(features, labels)"
   ]
  },
  {
   "cell_type": "code",
   "execution_count": 18,
   "metadata": {
    "collapsed": false
   },
   "outputs": [
    {
     "name": "stdout",
     "output_type": "stream",
     "text": [
      "[1]\n"
     ]
    }
   ],
   "source": [
    "print (clf.predict([[160,0]]))"
   ]
  },
  {
   "cell_type": "code",
   "execution_count": null,
   "metadata": {
    "collapsed": true
   },
   "outputs": [],
   "source": []
  }
 ],
 "metadata": {
  "kernelspec": {
   "display_name": "Python [Root]",
   "language": "python",
   "name": "Python [Root]"
  },
  "language_info": {
   "codemirror_mode": {
    "name": "ipython",
    "version": 3
   },
   "file_extension": ".py",
   "mimetype": "text/x-python",
   "name": "python",
   "nbconvert_exporter": "python",
   "pygments_lexer": "ipython3",
   "version": "3.5.2"
  }
 },
 "nbformat": 4,
 "nbformat_minor": 2
}
